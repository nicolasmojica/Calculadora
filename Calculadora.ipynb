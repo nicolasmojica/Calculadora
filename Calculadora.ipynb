{
  "nbformat": 4,
  "nbformat_minor": 0,
  "metadata": {
    "colab": {
      "provenance": [],
      "authorship_tag": "ABX9TyO11r9YvmS3o+nrfkQ2jwmn",
      "include_colab_link": true
    },
    "kernelspec": {
      "name": "python3",
      "display_name": "Python 3"
    },
    "language_info": {
      "name": "python"
    }
  },
  "cells": [
    {
      "cell_type": "markdown",
      "metadata": {
        "id": "view-in-github",
        "colab_type": "text"
      },
      "source": [
        "<a href=\"https://colab.research.google.com/github/nicolasmojica/Calculadora/blob/main/Calculadora.ipynb\" target=\"_parent\"><img src=\"https://colab.research.google.com/assets/colab-badge.svg\" alt=\"Open In Colab\"/></a>"
      ]
    },
    {
      "cell_type": "code",
      "execution_count": null,
      "metadata": {
        "id": "zcpU8IlB26DI"
      },
      "outputs": [],
      "source": [
        "# 📌 Calculadora Colaborativa en Jupyter Notebook\n",
        "\n",
        "# Bienvenido a la calculadora colaborativa. Cada estudiante debe agregar una función aquí abajo.\n",
        "# Luego, se podrá probar la calculadora con todas las funciones combinadas."
      ]
    }
  ]
}